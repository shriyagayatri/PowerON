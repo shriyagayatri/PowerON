
import tensorflow as tf
print(tf.__version__)
# 1.3.0
hello = tf.constant("HELLO ")
world = tf.constant("WORLD ")
type(hello)
# tensorflow.python.framework.ops.Tensor
result = hello + world
result
# <tf.Tensor 'add:0' shape=() dtype=string>
type(result)
# tensorflow.python.framework.ops.Tensor
with tf.Session() as sess:
    result = sess.run(hello+world)
result
# b'HelloWorld'
# Here b stands for bits

a = tf.constant(10)

b = tf.constant(20)

a+b
# <tf.Tensor 'add_1:0' shape=() dtype=int32>

a+b
# <tf.Tensor 'add_2:0' shape=() dtype=int32>

a+b
# <tf.Tensor 'add_3:0' shape=() dtype=int32>

with tf.Session() as sess:
    result = sess.run(a+b)

result
# 30





const = tf.constant(10)
fill_mat = tf.fill((4,4) , 29)

my_zeroes = tf.zeros((4,4))

my_ones = tf.ones((4,4))
my_rand = tf.random_normal((4,4) , mean = 2 ,stddev = 1.0)
uni_rand  = tf.random_uniform((4,4) , minval = 5 , maxval = 29)


my_list = [ const , fill_mat , my_zeroes , my_ones , my_rand , uni_rand]

# This can only be used in notebook

sess = tf.InteractiveSession()

for lst in my_list:
    print(sess.run(lst))
    print('\n')
 
# 10

# [[29 29 29 29]
# [29 29 29 29]
# [29 29 29 29]
# [29 29 29 29]]


# [[ 0.  0.  0.  0.]
# [ 0.  0.  0.  0.]
# [ 0.  0.  0.  0.]
# [ 0.  0.  0.  0.]]


# [[ 1.  1.  1.  1.]
# [ 1.  1.  1.  1.]
# [ 1.  1.  1.  1.]
# [ 1.  1.  1.  1.]]


# [[ 1.89292407  3.67208958 -0.01060581  2.00022244]
# [ 0.89824152  3.00516105  2.11327243  1.27625179]
# [ 2.71291518  2.48701286  0.89498913 -0.27356744]
# [ 1.62872601 -0.19969583  0.76322579  0.95181942]]


# [[ 19.94614029  13.94363499  12.37750816  10.41596794]
# [ 26.69919586  17.6484642   14.85001278  18.10031509]
# [ 22.40614891  21.6383667   16.55479813   5.00491524]
# [ 13.38328648  16.01846695  19.86374664  23.76791573]]




for lst in my_list:
    print(lst.eval())
    print('\n')

# 10

# [[29 29 29 29]
# [29 29 29 29]
# [29 29 29 29]
# [29 29 29 29]]


# [[ 0.  0.  0.  0.]
# [ 0.  0.  0.  0.]
# [ 0.  0.  0.  0.]
# [ 0.  0.  0.  0.]]


# [[ 1.  1.  1.  1.]
# [ 1.  1.  1.  1.]
# [ 1.  1.  1.  1.]
# [ 1.  1.  1.  1.]]


# [[ 1.89292407  3.67208958 -0.01060581  2.00022244]
# [ 0.89824152  3.00516105  2.11327243  1.27625179]
# [ 2.71291518  2.48701286  0.89498913 -0.27356744]
# [ 1.62872601 -0.19969583  0.76322579  0.95181942]]


# [[ 19.94614029  13.94363499  12.37750816  10.41596794]
# [ 26.69919586  17.6484642   14.85001278  18.10031509]
# [ 22.40614891  21.6383667   16.55479813   5.00491524]
# [ 13.38328648  16.01846695  19.86374664  23.76791573]]



# Matrices

a = tf.constant([[5,6] ,
                [7,8]])

type(a)
# tensorflow.python.framework.ops.Tensor

_
a.get_shape()
# TensorShape([Dimension(2), Dimension(2)])

b = tf.constant([[10] , [100]])

result = tf.matmul(a,b)

sess.run(result)
# array([[650],
       [870]])

