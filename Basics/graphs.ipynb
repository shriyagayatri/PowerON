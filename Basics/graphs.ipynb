
import tensorflow as tf

a = tf.constant(10)

b = tf.constant(20)
c= a+b
with tf.Session() as sess:
    result = sess.run(c)
print(result)
# 30

print(tf.get_default_graph)
# <function get_default_graph at 0x0000027EE08BF9D8>

g = tf.Graph()

print(g)
# <tensorflow.python.framework.ops.Graph object at 0x0000027EE35D6BA8>

graph_one = tf.get_default_graph()
graph_two = tf.Graph()

graph_one is tf.get_default_graph()
# True

graph_two is tf.get_default_graph

# False

with graph_two.as_default():
    print(graph_two is tf.get_default_graph())

# True
